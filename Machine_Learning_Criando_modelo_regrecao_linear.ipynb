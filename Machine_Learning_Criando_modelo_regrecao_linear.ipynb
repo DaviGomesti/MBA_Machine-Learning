{
  "nbformat": 4,
  "nbformat_minor": 0,
  "metadata": {
    "colab": {
      "provenance": [],
      "authorship_tag": "ABX9TyPruJX+NWFcVzTcI8A6+kj+",
      "include_colab_link": true
    },
    "kernelspec": {
      "name": "python3",
      "display_name": "Python 3"
    },
    "language_info": {
      "name": "python"
    }
  },
  "cells": [
    {
      "cell_type": "markdown",
      "metadata": {
        "id": "view-in-github",
        "colab_type": "text"
      },
      "source": [
        "<a href=\"https://colab.research.google.com/github/DaviGomesti/MBA_Machine-Learning/blob/main/Machine_Learning_Criando_modelo_regrecao_linear.ipynb\" target=\"_parent\"><img src=\"https://colab.research.google.com/assets/colab-badge.svg\" alt=\"Open In Colab\"/></a>"
      ]
    },
    {
      "cell_type": "code",
      "execution_count": 1,
      "metadata": {
        "colab": {
          "base_uri": "https://localhost:8080/"
        },
        "id": "k5Hj0sILJGUW",
        "outputId": "6a3b504d-2e25-4e60-ce88-f41e27149bc0"
      },
      "outputs": [
        {
          "output_type": "stream",
          "name": "stdout",
          "text": [
            "Collecting pyspark\n",
            "  Downloading pyspark-3.5.0.tar.gz (316.9 MB)\n",
            "\u001b[2K     \u001b[90m━━━━━━━━━━━━━━━━━━━━━━━━━━━━━━━━━━━━━━━━\u001b[0m \u001b[32m316.9/316.9 MB\u001b[0m \u001b[31m3.5 MB/s\u001b[0m eta \u001b[36m0:00:00\u001b[0m\n",
            "\u001b[?25h  Preparing metadata (setup.py) ... \u001b[?25l\u001b[?25hdone\n",
            "Requirement already satisfied: py4j in /usr/local/lib/python3.10/dist-packages (0.10.9.7)\n",
            "Building wheels for collected packages: pyspark\n",
            "  Building wheel for pyspark (setup.py) ... \u001b[?25l\u001b[?25hdone\n",
            "  Created wheel for pyspark: filename=pyspark-3.5.0-py2.py3-none-any.whl size=317425345 sha256=acfd166336d3e8c5dc653aa24e6972926719b2bb94d0caff789f282befb3d98d\n",
            "  Stored in directory: /root/.cache/pip/wheels/41/4e/10/c2cf2467f71c678cfc8a6b9ac9241e5e44a01940da8fbb17fc\n",
            "Successfully built pyspark\n",
            "Installing collected packages: pyspark\n",
            "Successfully installed pyspark-3.5.0\n"
          ]
        }
      ],
      "source": [
        "#INSTALAR O SPARK NO COLAB\n",
        "!pip install pyspark py4j\n",
        "\n",
        "#IMPORTAR SPARK NO COLAB\n",
        "from pyspark.sql import SparkSession\n",
        "\n",
        "#CRIAR SESSÃO SPARK\n",
        "spark = SparkSession.builder.appName(\"ExemploPySpark\").getOrCreate()\n",
        "\n",
        "#OBTER CONTEXTO SPARK PARA A SESSÃO\n",
        "sc = spark.sparkContext"
      ]
    },
    {
      "cell_type": "code",
      "source": [
        "#IMPORTAR BIBLIOTECAS\n",
        "from pyspark.ml.regression import LinearRegression, RandomForestRegressor"
      ],
      "metadata": {
        "id": "vStwEl-zJq4v"
      },
      "execution_count": 2,
      "outputs": []
    },
    {
      "cell_type": "code",
      "source": [
        "#IMPORTAR BIBLIOTECAS PARA AVALIAR PERFORMANCE DO MODELO\n",
        "from pyspark.ml.evaluation import  RegressionEvaluator"
      ],
      "metadata": {
        "id": "luwkDnsLJuKZ"
      },
      "execution_count": 3,
      "outputs": []
    },
    {
      "cell_type": "code",
      "source": [
        "#IMPORTAR BIBLIOTECAS HOTENDCODING\n",
        "from pyspark.ml.feature import VectorAssembler"
      ],
      "metadata": {
        "id": "gV2K_qsOJxnl"
      },
      "execution_count": 4,
      "outputs": []
    },
    {
      "cell_type": "code",
      "source": [
        "#INGESTÃO DE DADOS\n",
        "from pyspark.sql.types import *"
      ],
      "metadata": {
        "id": "qeYuzb4xJ0nB"
      },
      "execution_count": 5,
      "outputs": []
    },
    {
      "cell_type": "code",
      "source": [
        "#IMPORT DADOS\n",
        "carros_temp = spark.read.csv('/content/sample_data/Carros.csv', inferSchema=True, header= True, sep=';')\n",
        "carros_temp.show(5)"
      ],
      "metadata": {
        "colab": {
          "base_uri": "https://localhost:8080/"
        },
        "id": "Bt3l2W-SJ2p5",
        "outputId": "73787625-c751-49ff-e252-e29fa4d8ce6f"
      },
      "execution_count": 6,
      "outputs": [
        {
          "output_type": "stream",
          "name": "stdout",
          "text": [
            "+-------+---------+-----------+---------------+----+-----+---------+-----------+-------+-----------+---+\n",
            "|Consumo|Cilindros|Cilindradas|RelEixoTraseiro|Peso|Tempo|TipoMotor|Transmissao|Marchas|Carburadors| HP|\n",
            "+-------+---------+-----------+---------------+----+-----+---------+-----------+-------+-----------+---+\n",
            "|     21|        6|        160|             39| 262| 1646|        0|          1|      4|          4|110|\n",
            "|     21|        6|        160|             39|2875| 1702|        0|          1|      4|          4|110|\n",
            "|    228|        4|        108|            385| 232| 1861|        1|          1|      4|          1| 93|\n",
            "|    214|        6|        258|            308|3215| 1944|        1|          0|      3|          1|110|\n",
            "|    187|        8|        360|            315| 344| 1702|        0|          0|      3|          2|175|\n",
            "+-------+---------+-----------+---------------+----+-----+---------+-----------+-------+-----------+---+\n",
            "only showing top 5 rows\n",
            "\n"
          ]
        }
      ]
    },
    {
      "cell_type": "code",
      "source": [
        "#VAMOS PREVER A POTÊNCIA DO CARRO"
      ],
      "metadata": {
        "id": "XIZq_dk8Kk8R"
      },
      "execution_count": 7,
      "outputs": []
    },
    {
      "cell_type": "code",
      "source": [
        "#SEPARAR AS COLUNAS DESEJADAS PARA O MODELO\n",
        "carros = carros_temp.select('Consumo', 'Cilindros', 'Cilindradas', 'HP')\n",
        "carros.show(5)"
      ],
      "metadata": {
        "colab": {
          "base_uri": "https://localhost:8080/"
        },
        "id": "QxuiRaSKKoQ5",
        "outputId": "cecf7593-6ca5-4886-bd56-461d7c7ebf72"
      },
      "execution_count": 8,
      "outputs": [
        {
          "output_type": "stream",
          "name": "stdout",
          "text": [
            "+-------+---------+-----------+---+\n",
            "|Consumo|Cilindros|Cilindradas| HP|\n",
            "+-------+---------+-----------+---+\n",
            "|     21|        6|        160|110|\n",
            "|     21|        6|        160|110|\n",
            "|    228|        4|        108| 93|\n",
            "|    214|        6|        258|110|\n",
            "|    187|        8|        360|175|\n",
            "+-------+---------+-----------+---+\n",
            "only showing top 5 rows\n",
            "\n"
          ]
        }
      ]
    },
    {
      "cell_type": "code",
      "source": [
        "#CRIAR O VETOR DE CARACTERISTICAS (VARIÁVEIS INDEPENDENTES)\n",
        "\n",
        "\n",
        "#DEFINIR AS VARIÁVEIS INDEPENDENTES NO PARAMETRO\n",
        "veccaracteristicas = VectorAssembler(inputCols=[('Consumo'), ('Cilindros'), ('Cilindradas')], outputCol='caracteristicas')\n",
        ""
      ],
      "metadata": {
        "id": "yCsBH_PTKq2q"
      },
      "execution_count": 9,
      "outputs": []
    },
    {
      "cell_type": "code",
      "source": [
        "#AGORA VAMOS APLICAR O OBJETO CRIADO A VARIAVEL CARROS\n",
        "carros = veccaracteristicas.transform(carros)\n",
        "carros.show(5)\n",
        ""
      ],
      "metadata": {
        "colab": {
          "base_uri": "https://localhost:8080/"
        },
        "id": "P4ctkAMHKuLR",
        "outputId": "d33be510-1b5b-4ca6-e7ea-5b70a705dc2a"
      },
      "execution_count": 10,
      "outputs": [
        {
          "output_type": "stream",
          "name": "stdout",
          "text": [
            "+-------+---------+-----------+---+-----------------+\n",
            "|Consumo|Cilindros|Cilindradas| HP|  caracteristicas|\n",
            "+-------+---------+-----------+---+-----------------+\n",
            "|     21|        6|        160|110| [21.0,6.0,160.0]|\n",
            "|     21|        6|        160|110| [21.0,6.0,160.0]|\n",
            "|    228|        4|        108| 93|[228.0,4.0,108.0]|\n",
            "|    214|        6|        258|110|[214.0,6.0,258.0]|\n",
            "|    187|        8|        360|175|[187.0,8.0,360.0]|\n",
            "+-------+---------+-----------+---+-----------------+\n",
            "only showing top 5 rows\n",
            "\n"
          ]
        }
      ]
    },
    {
      "cell_type": "code",
      "source": [
        "#DIVIDIR DADOS EM TREINO E TESTE\n",
        "carrosTreino, carrosTeste = carros.randomSplit([0.7, 0.3])\n",
        "print(carrosTreino.count())"
      ],
      "metadata": {
        "colab": {
          "base_uri": "https://localhost:8080/"
        },
        "id": "0YDvGuufKxRh",
        "outputId": "c3e079b7-9687-47e3-fa1d-2fdfd16b1ca5"
      },
      "execution_count": 11,
      "outputs": [
        {
          "output_type": "stream",
          "name": "stdout",
          "text": [
            "24\n"
          ]
        }
      ]
    },
    {
      "cell_type": "code",
      "source": [
        "print(carrosTeste.count())\n",
        "\n"
      ],
      "metadata": {
        "colab": {
          "base_uri": "https://localhost:8080/"
        },
        "id": "_WFeuaHuK0fL",
        "outputId": "b5c5a9e8-b04f-4cbb-9ad1-10e6fb48633c"
      },
      "execution_count": 12,
      "outputs": [
        {
          "output_type": "stream",
          "name": "stdout",
          "text": [
            "8\n"
          ]
        }
      ]
    },
    {
      "cell_type": "code",
      "source": [
        "#CRIANDO MODELO DE REGRESSÃO\n",
        "reglin = LinearRegression(featuresCol='caracteristicas', labelCol='HP')\n",
        "modelo = reglin.fit(carrosTreino)\n",
        ""
      ],
      "metadata": {
        "id": "C3fZfELVK2kx"
      },
      "execution_count": 13,
      "outputs": []
    },
    {
      "cell_type": "code",
      "source": [
        "#PREVISÃO USANDO MODELO CRIADO\n",
        "previsao = modelo.transform(carrosTeste)\n",
        "previsao.show(5)"
      ],
      "metadata": {
        "colab": {
          "base_uri": "https://localhost:8080/"
        },
        "id": "qc_oLl-_K3iB",
        "outputId": "50b9288e-5a22-4bc8-d825-1b26d2f70be7"
      },
      "execution_count": 14,
      "outputs": [
        {
          "output_type": "stream",
          "name": "stdout",
          "text": [
            "+-------+---------+-----------+---+-----------------+------------------+\n",
            "|Consumo|Cilindros|Cilindradas| HP|  caracteristicas|        prediction|\n",
            "+-------+---------+-----------+---+-----------------+------------------+\n",
            "|     15|        8|        301|335| [15.0,8.0,301.0]|224.60930138613236|\n",
            "|     21|        6|        160|110| [21.0,6.0,160.0]|182.43173826563276|\n",
            "|     21|        6|        160|110| [21.0,6.0,160.0]|182.43173826563276|\n",
            "|     26|        4|       1203| 91|[26.0,4.0,1203.0]|135.29895292340672|\n",
            "|    133|        8|        350|245|[133.0,8.0,350.0]|195.50601419970434|\n",
            "+-------+---------+-----------+---+-----------------+------------------+\n",
            "only showing top 5 rows\n",
            "\n"
          ]
        }
      ]
    },
    {
      "cell_type": "code",
      "source": [
        "#AVALIAR MODELO POR MÉTRICA DE PERFORMANCE\n",
        "avaliar = RegressionEvaluator(predictionCol='prediction', labelCol='HP', metricName='rmse')\n",
        "rmse = avaliar.evaluate(previsao)\n",
        "print(rmse)"
      ],
      "metadata": {
        "colab": {
          "base_uri": "https://localhost:8080/"
        },
        "id": "lz_HvD4dK5-6",
        "outputId": "b4517bd4-4875-4ab3-b2f9-ca75ea96977e"
      },
      "execution_count": 16,
      "outputs": [
        {
          "output_type": "stream",
          "name": "stdout",
          "text": [
            "64.04330160383925\n"
          ]
        }
      ]
    },
    {
      "cell_type": "code",
      "source": [
        "#GERAR NOVO MODELO COM DADOS DE TESTE\n",
        "rfreg = RandomForestRegressor(featuresCol='caracteristicas', labelCol='HP')\n",
        "modelo2 = rfreg.fit(carrosTreino)"
      ],
      "metadata": {
        "id": "7PAaS_ZIK_15"
      },
      "execution_count": 17,
      "outputs": []
    },
    {
      "cell_type": "code",
      "source": [
        "previsao2 = modelo2.transform(carrosTeste)\n",
        "previsao2.show(5)"
      ],
      "metadata": {
        "colab": {
          "base_uri": "https://localhost:8080/"
        },
        "id": "IHC2W2F1LDNy",
        "outputId": "c7d76ebd-e55f-4a9e-e09d-0650437fdf7e"
      },
      "execution_count": 18,
      "outputs": [
        {
          "output_type": "stream",
          "name": "stdout",
          "text": [
            "+-------+---------+-----------+---+-----------------+------------------+\n",
            "|Consumo|Cilindros|Cilindradas| HP|  caracteristicas|        prediction|\n",
            "+-------+---------+-----------+---+-----------------+------------------+\n",
            "|     15|        8|        301|335| [15.0,8.0,301.0]| 178.4126984126984|\n",
            "|     21|        6|        160|110| [21.0,6.0,160.0]| 146.1781746031746|\n",
            "|     21|        6|        160|110| [21.0,6.0,160.0]| 146.1781746031746|\n",
            "|     26|        4|       1203| 91|[26.0,4.0,1203.0]|134.87527777777777|\n",
            "|    133|        8|        350|245|[133.0,8.0,350.0]|204.07936507936506|\n",
            "+-------+---------+-----------+---+-----------------+------------------+\n",
            "only showing top 5 rows\n",
            "\n"
          ]
        }
      ]
    },
    {
      "cell_type": "code",
      "source": [
        "#GERAR UMA MÉTRICA PARA SEGUNDA PREVISÃO\n",
        "rmse2 = avaliar.evaluate(previsao2)\n",
        "print(rmse2)"
      ],
      "metadata": {
        "colab": {
          "base_uri": "https://localhost:8080/"
        },
        "id": "yjAGIp6GLGw0",
        "outputId": "8e284b86-6b58-41e8-aaec-5a0aa2f9b9ba"
      },
      "execution_count": 19,
      "outputs": [
        {
          "output_type": "stream",
          "name": "stdout",
          "text": [
            "68.80930658951104\n"
          ]
        }
      ]
    },
    {
      "cell_type": "code",
      "source": [
        "print(rmse)"
      ],
      "metadata": {
        "colab": {
          "base_uri": "https://localhost:8080/"
        },
        "id": "marXQ4BALIhE",
        "outputId": "d7a3e3f4-1068-42b0-f4f2-c86d53092468"
      },
      "execution_count": 20,
      "outputs": [
        {
          "output_type": "stream",
          "name": "stdout",
          "text": [
            "64.04330160383925\n"
          ]
        }
      ]
    }
  ]
}